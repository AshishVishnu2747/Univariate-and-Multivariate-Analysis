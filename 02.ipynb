{
 "cells": [
  {
   "cell_type": "markdown",
   "metadata": {},
   "source": [
    "## Practicals 01: Mean Covariance and Correlation of Random Vectors"
   ]
  },
  {
   "cell_type": "markdown",
   "metadata": {},
   "source": [
    "**Name:**  Ashish Vishnu\n",
    "\n",
    "**RegNo:**  20MDT1005"
   ]
  },
  {
   "cell_type": "markdown",
   "metadata": {},
   "source": [
    "__AIM:__\n",
    "    \n",
    "1. Exploring the mean vector, variance-convariance matrix and the correlation matrix. \n",
    "1. Understanding the operations on data such as transforming the data\n",
    "1. Understanding the linear relationship between the data."
   ]
  },
  {
   "cell_type": "code",
   "execution_count": 74,
   "metadata": {},
   "outputs": [],
   "source": [
    "import pandas as pd\n",
    "import numpy as np\n",
    "import matplotlib.pyplot as plt"
   ]
  },
  {
   "cell_type": "markdown",
   "metadata": {},
   "source": [
    "**Question:**\n",
    "\n",
    "Consider the data on the height (in inches) and weight (in lbs.) of 20 college-age males from the file `HeightWeight.xlsx`\n",
    "\n",
    " 1. Plot the scatter plot and Height Vs Weight\n",
    " 1. Fit a linear polynomial to the data, and visualize that whether the data has linear relationship\n",
    " 1. Find the mean vector, covariance matrix and correlation matrix.\n",
    " 1. Using matrix operation, create a new dataset where the hei ght and weight information from the observations are measured in metres and kilogr ams, respectively, in the height and weight data of 20 college-age males.\n",
    " 1. Calculate the covariance between height and weight in the new dataset. Compare it to the covariance in the original dataset. Do you see a difference?\n",
    " 1. Calculate as well the correlation between height and weight in the new dataset using the matrix operation on the covariance matrix. Compare it to the correlation in the original dataset. Do you now see a difference?\n",
    " 1. Whether a person having more weight is likely to be taller?"
   ]
  },
  {
   "cell_type": "code",
   "execution_count": 75,
   "metadata": {},
   "outputs": [
    {
     "data": {
      "text/html": [
       "<div>\n",
       "<style scoped>\n",
       "    .dataframe tbody tr th:only-of-type {\n",
       "        vertical-align: middle;\n",
       "    }\n",
       "\n",
       "    .dataframe tbody tr th {\n",
       "        vertical-align: top;\n",
       "    }\n",
       "\n",
       "    .dataframe thead th {\n",
       "        text-align: right;\n",
       "    }\n",
       "</style>\n",
       "<table border=\"1\" class=\"dataframe\">\n",
       "  <thead>\n",
       "    <tr style=\"text-align: right;\">\n",
       "      <th></th>\n",
       "      <th>Height</th>\n",
       "      <th>Weight</th>\n",
       "    </tr>\n",
       "  </thead>\n",
       "  <tbody>\n",
       "    <tr>\n",
       "      <th>0</th>\n",
       "      <td>69</td>\n",
       "      <td>153</td>\n",
       "    </tr>\n",
       "    <tr>\n",
       "      <th>1</th>\n",
       "      <td>74</td>\n",
       "      <td>175</td>\n",
       "    </tr>\n",
       "    <tr>\n",
       "      <th>2</th>\n",
       "      <td>68</td>\n",
       "      <td>155</td>\n",
       "    </tr>\n",
       "    <tr>\n",
       "      <th>3</th>\n",
       "      <td>70</td>\n",
       "      <td>135</td>\n",
       "    </tr>\n",
       "    <tr>\n",
       "      <th>4</th>\n",
       "      <td>72</td>\n",
       "      <td>172</td>\n",
       "    </tr>\n",
       "  </tbody>\n",
       "</table>\n",
       "</div>"
      ],
      "text/plain": [
       "   Height  Weight\n",
       "0      69     153\n",
       "1      74     175\n",
       "2      68     155\n",
       "3      70     135\n",
       "4      72     172"
      ]
     },
     "execution_count": 75,
     "metadata": {},
     "output_type": "execute_result"
    }
   ],
   "source": [
    "hw = pd.read_excel('data/HeightWeight.xlsx')\n",
    "hw.head()"
   ]
  },
  {
   "cell_type": "code",
   "execution_count": 76,
   "metadata": {},
   "outputs": [
    {
     "data": {
      "image/png": "[encoded data removed]",
      "text/plain": [
       "<Figure size 432x288 with 1 Axes>"
      ]
     },
     "metadata": {
      "needs_background": "light"
     },
     "output_type": "display_data"
    }
   ],
   "source": [
    "#1. Scatter plot\n",
    "plt.scatter(hw.Height,hw.Weight,color=\"green\")\n",
    "plt.show()"
   ]
  },
  {
   "cell_type": "code",
   "execution_count": 77,
   "metadata": {},
   "outputs": [
    {
     "data": {
      "image/png": "[encoded data removed]",
      "text/plain": [
       "<Figure size 432x288 with 1 Axes>"
      ]
     },
     "metadata": {
      "needs_background": "light"
     },
     "output_type": "display_data"
    }
   ],
   "source": [
    "#2.Linear fit \n",
    "[m,c]=np.polyfit(hw.Height,hw.Weight,deg=1)\n",
    "plt.plot(hw.Height,(m*hw.Height+c),color=\"blue\")\n",
    "plt.scatter(hw.Height,hw.Weight,color=\"green\")\n",
    "plt.show()"
   ]
  },
  {
   "cell_type": "markdown",
   "metadata": {},
   "source": [
    "**Ans:** Yes, the data has a linear relationship as height increaes the weight is also increasing"
   ]
  },
  {
   "cell_type": "code",
   "execution_count": 78,
   "metadata": {},
   "outputs": [
    {
     "name": "stdout",
     "output_type": "stream",
     "text": [
      "mean height is 70.0 and Mean Weight is 152.20000000000002\n",
      "\n",
      "Covariance matrix \n",
      "\n",
      "[[ 10.          67.88888889]\n",
      " [ 67.88888889 623.73333333]]\n",
      "\n",
      "Correlation matrix\n",
      " \n",
      "[[1.         0.85960558]\n",
      " [0.85960558 1.        ]]\n"
     ]
    }
   ],
   "source": [
    "#3. Mean,Covariance and Correlation of the data\n",
    "x=np.array(hw[\"Height\"])\n",
    "y=np.array(hw[\"Weight\"])\n",
    "\n",
    "arr=np.array([x,y]).transpose()\n",
    "One=np.ones(len(arr))\n",
    "meanVector=(1/len(arr))*arr.transpose().dot(One)\n",
    "print(f\"mean height is {meanVector[0]} and Mean Weight is {meanVector[1]}\\n\")\n",
    "\n",
    "Y=arr-np.outer(One,meanVector)\n",
    "Covmat=(1/(len(arr)-1))*Y.transpose().dot(Y)\n",
    "print(f\"Covariance matrix \\n\\n{Covmat}\")\n",
    "\n",
    "D=np.zeros(Covmat.shape)\n",
    "for i in range(len(Covmat)):\n",
    "    D[i][i]=1/(np.sqrt(Covmat[i][i]))\n",
    "corr=D@Covmat@D\n",
    "print(f\"\\nCorrelation matrix\\n \\n{corr}\")"
   ]
  },
  {
   "cell_type": "code",
   "execution_count": 79,
   "metadata": {},
   "outputs": [
    {
     "name": "stdout",
     "output_type": "stream",
     "text": [
      "New Height(in meters)\n",
      " [1.7526 1.8796 1.7272 1.778  1.8288 1.7018 1.6764 1.778  1.9304 1.7272]\n",
      "New Weight (in Kilograms)\n",
      " [69.399576 79.3786   70.30676  61.23492  78.017824 68.0388   52.16308\n",
      " 62.142104 90.7184   58.96696 ]\n"
     ]
    }
   ],
   "source": [
    "#4. converting Heights in meters and Weight in Kg's.\n",
    "new_x=x*0.0254 #to meters\n",
    "new_y=y*0.453592 #to kgs.\n",
    "print(f\"New Height(in meters)\\n {new_x}\\nNew Weight (in Kilograms)\\n {new_y}\")"
   ]
  },
  {
   "cell_type": "code",
   "execution_count": 80,
   "metadata": {},
   "outputs": [
    {
     "name": "stdout",
     "output_type": "stream",
     "text": [
      "mean height is 1.7780000000000002 and Mean Weight is 69.03670240000001\n",
      "\n",
      "Covariance matrix \n",
      "[[6.45160000e-03 7.82163965e-01]\n",
      " [7.82163965e-01 1.28330453e+02]]\n"
     ]
    }
   ],
   "source": [
    "#5.Covariance of the modified data\n",
    "new_Y,new_Covmat,new_arr=0,0,0\n",
    "new_arr=np.array([new_x,new_y]).transpose()\n",
    "One=np.ones(len(new_arr))\n",
    "new_meanVector=(1/len(new_arr))*new_arr.transpose().dot(One)\n",
    "print(f\"mean height is {new_meanVector[0]} and Mean Weight is {new_meanVector[1]}\\n\")\n",
    "\n",
    "new_Y=new_arr-np.outer(One,new_meanVector)\n",
    "new_Covmat=(1/(len(new_arr)-1))*new_Y.transpose().dot(new_Y)\n",
    "print(f\"Covariance matrix \\n{new_Covmat}\")"
   ]
  },
  {
   "cell_type": "markdown",
   "metadata": {},
   "source": [
    "**Answer:** Yes, there is a significant differnce in first and modified height,weight data."
   ]
  },
  {
   "cell_type": "code",
   "execution_count": 81,
   "metadata": {},
   "outputs": [
    {
     "name": "stdout",
     "output_type": "stream",
     "text": [
      "\n",
      "Correlation matrix\n",
      " \n",
      "[[1.         0.85960558]\n",
      " [0.85960558 1.        ]]\n"
     ]
    }
   ],
   "source": [
    "#6. Correlation matrix of modified data\n",
    "new_D=np.zeros(new_Covmat.shape)\n",
    "for i in range(len(new_Covmat)):\n",
    "    new_D[i][i]=1/np.sqrt(new_Covmat[i][i])\n",
    "new_corr=new_D@new_Covmat@new_D\n",
    "print(f\"\\nCorrelation matrix\\n \\n{new_corr}\")"
   ]
  },
  {
   "cell_type": "markdown",
   "metadata": {},
   "source": [
    "**Answer:** No, there is no change in the correlation between height and weight."
   ]
  },
  {
   "cell_type": "markdown",
   "metadata": {},
   "source": [
    "## Judges Dataset"
   ]
  },
  {
   "cell_type": "markdown",
   "metadata": {},
   "source": [
    "In a baking competition, there are three judges who would score a cake created by each\n",
    "participant from zero (inedible) to ten (excellent). \n",
    "There are ten contestants in the competition, and the matrix\n",
    "of scores are given in the dataset `3judges.csv`. Answer the following questions."
   ]
  },
  {
   "cell_type": "markdown",
   "metadata": {},
   "source": [
    "1. Which judge gives higher scores than the others?\n",
    "\n",
    "1. What is the total and average score that each contestant received?\n",
    "1. The host of the competition realises that the first judge had a cold and the score he gave is not entirely reliable. So the host suggests that the scores given by Judge 1 are weighted by 0.5, by Judge 2 are weighted by 1.25, and by Judge 3 are weighted by 1.25 as well. In this new scheme of scoring, what are the total scores that each individual receives?\n",
    "1. Judge 1 protested the new scheme and suggested a different scoring scheme. He suggested that the weights should be 0.5, 1.0, and 1.0 for Judge 1 to Judge 3 respectively. In this scheme, what is the average score per participant"
   ]
  },
  {
   "cell_type": "code",
   "execution_count": 82,
   "metadata": {},
   "outputs": [
    {
     "data": {
      "text/html": [
       "<div>\n",
       "<style scoped>\n",
       "    .dataframe tbody tr th:only-of-type {\n",
       "        vertical-align: middle;\n",
       "    }\n",
       "\n",
       "    .dataframe tbody tr th {\n",
       "        vertical-align: top;\n",
       "    }\n",
       "\n",
       "    .dataframe thead th {\n",
       "        text-align: right;\n",
       "    }\n",
       "</style>\n",
       "<table border=\"1\" class=\"dataframe\">\n",
       "  <thead>\n",
       "    <tr style=\"text-align: right;\">\n",
       "      <th></th>\n",
       "      <th>J1</th>\n",
       "      <th>J2</th>\n",
       "      <th>J3</th>\n",
       "    </tr>\n",
       "  </thead>\n",
       "  <tbody>\n",
       "    <tr>\n",
       "      <th>0</th>\n",
       "      <td>7</td>\n",
       "      <td>7</td>\n",
       "      <td>7</td>\n",
       "    </tr>\n",
       "    <tr>\n",
       "      <th>1</th>\n",
       "      <td>6</td>\n",
       "      <td>7</td>\n",
       "      <td>7</td>\n",
       "    </tr>\n",
       "    <tr>\n",
       "      <th>2</th>\n",
       "      <td>5</td>\n",
       "      <td>6</td>\n",
       "      <td>4</td>\n",
       "    </tr>\n",
       "    <tr>\n",
       "      <th>3</th>\n",
       "      <td>6</td>\n",
       "      <td>7</td>\n",
       "      <td>6</td>\n",
       "    </tr>\n",
       "    <tr>\n",
       "      <th>4</th>\n",
       "      <td>7</td>\n",
       "      <td>8</td>\n",
       "      <td>7</td>\n",
       "    </tr>\n",
       "  </tbody>\n",
       "</table>\n",
       "</div>"
      ],
      "text/plain": [
       "   J1   J2  J3\n",
       "0   7    7   7\n",
       "1   6    7   7\n",
       "2   5    6   4\n",
       "3   6    7   6\n",
       "4   7    8   7"
      ]
     },
     "execution_count": 82,
     "metadata": {},
     "output_type": "execute_result"
    }
   ],
   "source": [
    "judges = pd.read_csv('data/3judges.csv')\n",
    "judges.head()"
   ]
  },
  {
   "cell_type": "code",
   "execution_count": 83,
   "metadata": {},
   "outputs": [
    {
     "name": "stdout",
     "output_type": "stream",
     "text": [
      "J1     54\n",
      " J2    63\n",
      "J3     52\n",
      "dtype: int64\n"
     ]
    }
   ],
   "source": [
    "#1. Score of judges\n",
    "print(judges.sum(axis=0))"
   ]
  },
  {
   "cell_type": "markdown",
   "metadata": {},
   "source": [
    "**Answer:** Second Judge gave the highest marks"
   ]
  },
  {
   "cell_type": "code",
   "execution_count": 84,
   "metadata": {},
   "outputs": [
    {
     "name": "stdout",
     "output_type": "stream",
     "text": [
      "Total score of contestant\n",
      "0    21\n",
      "1    20\n",
      "2    15\n",
      "3    19\n",
      "4    22\n",
      "5    22\n",
      "6    16\n",
      "7    19\n",
      "8    15\n",
      "dtype: int64\n",
      "\n",
      "Average score of contestant:\n",
      "\n",
      "[7.         6.66666667 5.         6.33333333 7.33333333 7.33333333\n",
      " 5.33333333 6.33333333 5.        ]\n"
     ]
    }
   ],
   "source": [
    "#2. Score of contestant\n",
    "print(f\"Total score of contestant\\n{judges.sum(axis=1)}\")\n",
    "J1=np.array(judges['J1'])\n",
    "J3=np.array(judges['J3'])\n",
    "J2=np.array(judges[' J2'])\n",
    "\n",
    "mat=np.array([J1,J2,J3])\n",
    "One=np.ones(len(mat))\n",
    "avg=1/len(mat)*(mat.transpose().dot(One))\n",
    "print(f\"\\nAverage score of contestant:\\n\\n{avg.transpose()}\")"
   ]
  },
  {
   "cell_type": "code",
   "execution_count": 85,
   "metadata": {},
   "outputs": [
    {
     "name": "stdout",
     "output_type": "stream",
     "text": [
      " The new scores are :\n",
      "\n",
      "[21.   20.5  15.   19.25 22.25 22.25 16.25 19.25 15.  ]\n"
     ]
    }
   ],
   "source": [
    "#3. Weighted judges scores\n",
    "J1=np.array(judges['J1']*0.5)\n",
    "J3=np.array(judges['J3']*1.25)\n",
    "J2=np.array(judges[' J2']*1.25)\n",
    "jud=np.array([J1,J2,J3])\n",
    "print(f\" The new scores are :\\n\\n{jud.transpose().sum(axis=1)}\")"
   ]
  },
  {
   "cell_type": "code",
   "execution_count": 86,
   "metadata": {},
   "outputs": [
    {
     "name": "stdout",
     "output_type": "stream",
     "text": [
      "\n",
      "Average score of contestant:\n",
      "\n",
      "[5.83333333 5.66666667 4.16666667 5.33333333 6.16666667 6.16666667\n",
      " 4.5        5.33333333 4.16666667]\n"
     ]
    }
   ],
   "source": [
    "#4. Average score of weighted judges sore in new format\n",
    "J1=np.array(judges['J1']*0.5)\n",
    "J3=np.array(judges['J3'])\n",
    "J2=np.array(judges[' J2'])\n",
    "new_jud=np.array([J1,J2,J3])\n",
    "One=np.ones(len(new_jud))\n",
    "avg=1/len(new_jud)*(new_jud.transpose().dot(One))\n",
    "print(f\"\\nAverage score of contestant:\\n\\n{avg.transpose()}\")"
   ]
  }
 ],
 "metadata": {
  "kernelspec": {
   "display_name": "Python 3",
   "language": "python",
   "name": "python3"
  },
  "language_info": {
   "codemirror_mode": {
    "name": "ipython",
    "version": 3
   },
   "file_extension": ".py",
   "mimetype": "text/x-python",
   "name": "python",
   "nbconvert_exporter": "python",
   "pygments_lexer": "ipython3",
   "version": "3.8.5"
  }
 },
 "nbformat": 4,
 "nbformat_minor": 5
}
